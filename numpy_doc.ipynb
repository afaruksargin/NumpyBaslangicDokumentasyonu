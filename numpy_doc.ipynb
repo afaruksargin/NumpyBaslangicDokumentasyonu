{
  "nbformat": 4,
  "nbformat_minor": 0,
  "metadata": {
    "colab": {
      "provenance": [],
      "toc_visible": true
    },
    "kernelspec": {
      "name": "python3",
      "display_name": "Python 3"
    },
    "language_info": {
      "name": "python"
    }
  },
  "cells": [
    {
      "cell_type": "code",
      "execution_count": null,
      "metadata": {
        "id": "oekw5hLWNZ5m"
      },
      "outputs": [],
      "source": [
        "import numpy as np"
      ]
    },
    {
      "cell_type": "code",
      "source": [
        "a = np.array([2,3,4])\n",
        "a"
      ],
      "metadata": {
        "colab": {
          "base_uri": "https://localhost:8080/"
        },
        "id": "N8KVP1c2Ner1",
        "outputId": "dd2235ec-90e3-4745-9a91-d07c4c20d16c"
      },
      "execution_count": null,
      "outputs": [
        {
          "output_type": "execute_result",
          "data": {
            "text/plain": [
              "array([2, 3, 4])"
            ]
          },
          "metadata": {},
          "execution_count": 2
        }
      ]
    },
    {
      "cell_type": "code",
      "source": [
        "print(f\"data type : {a.dtype} , dizi boyutu (satır) {a.ndim} , dizi boyutu (satır , sütun) {a.shape} \")"
      ],
      "metadata": {
        "id": "venMLREpNryp",
        "colab": {
          "base_uri": "https://localhost:8080/"
        },
        "outputId": "db98c18a-c8d9-4395-fa03-57cc0bc18f9d"
      },
      "execution_count": null,
      "outputs": [
        {
          "output_type": "stream",
          "name": "stdout",
          "text": [
            "data type : int64 , dizi boyutu (satır) 1 , dizi boyutu (satır , sütun) (3,) \n"
          ]
        }
      ]
    },
    {
      "cell_type": "markdown",
      "source": [
        "# DİZİ OLUŞTURMASI"
      ],
      "metadata": {
        "id": "Bvz9wiA3osdI"
      }
    },
    {
      "cell_type": "code",
      "source": [
        "python_list = [1,2,3,4]\n",
        "a = np.array(python_list)\n",
        "python_list2 = [1.1,2.4,6.6]\n",
        "b = np.array(python_list2)\n",
        "print(f\"{a} {a.dtype} , {a.shape} \\n {b} {b.dtype} , {b.shape} \")"
      ],
      "metadata": {
        "id": "z7uvgJMhPglt",
        "colab": {
          "base_uri": "https://localhost:8080/"
        },
        "outputId": "6de2b8dd-c514-4818-a568-baea15913158"
      },
      "execution_count": null,
      "outputs": [
        {
          "output_type": "stream",
          "name": "stdout",
          "text": [
            "[1 2 3 4] int64 , (4,) \n",
            " [1.1 2.4 6.6] float64 , (3,) \n"
          ]
        }
      ]
    },
    {
      "cell_type": "code",
      "source": [
        "b = np.array ([(1.2,3,4,4.5), (4,5,6,7)])\n",
        "print(f\"data type : {b.dtype} , dizi boyutu (satır) {b.ndim} , dizi boyutu (satır , sütun) {b.shape} \")"
      ],
      "metadata": {
        "id": "73SGXxmyRBGY",
        "colab": {
          "base_uri": "https://localhost:8080/"
        },
        "outputId": "715374cf-bbd1-4455-fad8-1cacd3e8d8a2"
      },
      "execution_count": null,
      "outputs": [
        {
          "output_type": "stream",
          "name": "stdout",
          "text": [
            "data type : float64 , dizi boyutu (satır) 2 , dizi boyutu (satır , sütun) (2, 4) \n"
          ]
        }
      ]
    },
    {
      "cell_type": "code",
      "source": [
        "a = np.zeros((4,2))\n",
        "b = np.ones((2,4,3), dtype = np.int16)\n",
        "print(f\" {a} , {a.shape} , {a.dtype} \\n\\n {b} {b.shape} , {b.ndim} , {b.size} , {b.dtype} \")\n"
      ],
      "metadata": {
        "id": "YuvNYTckS3bd",
        "colab": {
          "base_uri": "https://localhost:8080/"
        },
        "outputId": "3fe4755c-119d-450c-e2eb-7a30b209d2c1"
      },
      "execution_count": null,
      "outputs": [
        {
          "output_type": "stream",
          "name": "stdout",
          "text": [
            " [[0. 0.]\n",
            " [0. 0.]\n",
            " [0. 0.]\n",
            " [0. 0.]] , (4, 2) , float64 \n",
            "\n",
            " [[[1 1 1]\n",
            "  [1 1 1]\n",
            "  [1 1 1]\n",
            "  [1 1 1]]\n",
            "\n",
            " [[1 1 1]\n",
            "  [1 1 1]\n",
            "  [1 1 1]\n",
            "  [1 1 1]]] (2, 4, 3) , 3 , 24 , int16 \n"
          ]
        }
      ]
    },
    {
      "cell_type": "code",
      "source": [
        "a = np.arange(10,30,5) #10 dahil 30 a kadar 5'er 5'er artırarak bir dizi oluşturur.\n",
        "b = np.linspace(0,2,9) # 0 ve 2 dahil arasına eşit uzunlukta 9 adet sayı yerleştirerek dizi oluşturur.\n",
        "print(f\" {a.shape} , {a.size} , {a.dtype} \\n {b.shape} , {b.size} , {b.dtype} \")\n"
      ],
      "metadata": {
        "id": "3BFhLVLeX_fk",
        "colab": {
          "base_uri": "https://localhost:8080/"
        },
        "outputId": "fdaaa32e-1404-4ba0-8138-0b61981b4371"
      },
      "execution_count": null,
      "outputs": [
        {
          "output_type": "stream",
          "name": "stdout",
          "text": [
            " (4,) , 4 , int64 \n",
            " (9,) , 9 , float64 \n"
          ]
        }
      ]
    },
    {
      "cell_type": "markdown",
      "source": [
        "\n",
        "\n",
        "\n",
        "# MATEMATİKSLE OPERATÖRLER"
      ],
      "metadata": {
        "id": "XIngcwxJoeeX"
      }
    },
    {
      "cell_type": "code",
      "source": [
        "a = np.array([10,20,60,50])\n",
        "b = np.array([1,2,5,4])\n",
        "print(f\"a*b {a*b} \\n a-b {a-b} \\n a**2 {a**2}\")"
      ],
      "metadata": {
        "id": "GVVFzw_gZHCD",
        "colab": {
          "base_uri": "https://localhost:8080/"
        },
        "outputId": "a37fb7ac-3682-4ed8-933e-2649a97b2361"
      },
      "execution_count": null,
      "outputs": [
        {
          "output_type": "stream",
          "name": "stdout",
          "text": [
            "a*b [ 10  40 300 200] \n",
            " a-b [ 9 18 55 46] \n",
            " a**2 [ 100  400 3600 2500]\n"
          ]
        }
      ]
    },
    {
      "cell_type": "code",
      "source": [
        "a = np.random.rand(4,5)\n",
        "print(f\"dizi toplam {a.sum()} \\n min {a.min()} \\n max {a.max()} \")"
      ],
      "metadata": {
        "id": "WAAi_SdXa6H-",
        "colab": {
          "base_uri": "https://localhost:8080/"
        },
        "outputId": "8a886fd9-9e54-4608-edf6-caa60abf1da6"
      },
      "execution_count": null,
      "outputs": [
        {
          "output_type": "stream",
          "name": "stdout",
          "text": [
            "dizi toplam 11.299381119678477 \n",
            " min 0.05113881284376598 \n",
            " max 0.9576836044500145 \n"
          ]
        }
      ]
    },
    {
      "cell_type": "code",
      "source": [
        "b = np.arange(12).reshape(3,4)\n",
        "print(b)\n",
        "print(f\"1.Sütun Toplamları {b.sum(axis =1)} \\n kümülatif_toplam \\n {b.cumsum(axis = 1)} \\n satır kümülatif toplam \\n {b.cumsum(axis = 0)} \")"
      ],
      "metadata": {
        "id": "xr-iyASrcC3e",
        "colab": {
          "base_uri": "https://localhost:8080/"
        },
        "outputId": "73d4376e-1b38-4643-c5dd-8121250dfbb8"
      },
      "execution_count": null,
      "outputs": [
        {
          "output_type": "stream",
          "name": "stdout",
          "text": [
            "[[ 0  1  2  3]\n",
            " [ 4  5  6  7]\n",
            " [ 8  9 10 11]]\n",
            "1.Sütun Toplamları [ 6 22 38] \n",
            " kümülatif_toplam \n",
            " [[ 0  1  3  6]\n",
            " [ 4  9 15 22]\n",
            " [ 8 17 27 38]] \n",
            " satır kümülatif toplam \n",
            " [[ 0  1  2  3]\n",
            " [ 4  6  8 10]\n",
            " [12 15 18 21]] \n"
          ]
        }
      ]
    },
    {
      "cell_type": "markdown",
      "source": [
        "# INDEX, SLICING, AND ITERATING"
      ],
      "metadata": {
        "id": "AUXv7pHio39B"
      }
    },
    {
      "cell_type": "code",
      "source": [
        "a = np.arange(10)**3\n",
        "a"
      ],
      "metadata": {
        "id": "llbiHvWzpBWc",
        "colab": {
          "base_uri": "https://localhost:8080/"
        },
        "outputId": "d2007c15-d8d2-449d-e57d-1beefe4dc3f0"
      },
      "execution_count": null,
      "outputs": [
        {
          "output_type": "execute_result",
          "data": {
            "text/plain": [
              "array([  0,   1,   8,  27,  64, 125, 216, 343, 512, 729])"
            ]
          },
          "metadata": {},
          "execution_count": 11
        }
      ]
    },
    {
      "cell_type": "code",
      "source": [
        "print(f\" 2. data: {a[2]} \\n 2. datadan 5. dataya kadar : {a[2:5]}  \\n 0 dan 6 ya kadar 2 şer giderek 0.index 2.index 4.index {a[:6:2]}\")"
      ],
      "metadata": {
        "id": "gDBeFiNEq2Wv",
        "colab": {
          "base_uri": "https://localhost:8080/"
        },
        "outputId": "7e8fa1f1-0eab-4809-f935-829909820a25"
      },
      "execution_count": null,
      "outputs": [
        {
          "output_type": "stream",
          "name": "stdout",
          "text": [
            " 2. data: 8 \n",
            " 2. datadan 5. dataya kadar : [ 8 27 64]  \n",
            " 0 dan 6 ya kadar 2 şer giderek 0.index 2.index 4.index [ 0  8 64]\n"
          ]
        }
      ]
    },
    {
      "cell_type": "code",
      "source": [
        "a[:6:2] = 777\n",
        "a[:6:2]"
      ],
      "metadata": {
        "id": "qcI7pvc-r71j",
        "colab": {
          "base_uri": "https://localhost:8080/"
        },
        "outputId": "6356aad5-9ca6-418c-b217-6017db6305f9"
      },
      "execution_count": null,
      "outputs": [
        {
          "output_type": "execute_result",
          "data": {
            "text/plain": [
              "array([777, 777, 777])"
            ]
          },
          "metadata": {},
          "execution_count": 13
        }
      ]
    },
    {
      "cell_type": "markdown",
      "source": [
        "Numpy arrayller üzerinde matematiksel operatörler ile sınama yapabilirsiniz, aşağıdaki 2 boyutlu array üzerinde bu işlemleri inceleyebiliriz."
      ],
      "metadata": {
        "id": "5tcWPjzxLjG-"
      }
    },
    {
      "cell_type": "code",
      "source": [
        "a = np.array([[1 , 2, 3, 4], [5, 6, 7, 8], [9, 10, 11, 12]])\n",
        "print(f\" Dizenin boyutu : {a.shape} \\n \\t Dizenin uzunluğu : {a.size}\")"
      ],
      "metadata": {
        "id": "3pJQ5guNLPlS",
        "colab": {
          "base_uri": "https://localhost:8080/"
        },
        "outputId": "c153883d-f210-41be-afd6-e7f84cf2471b"
      },
      "execution_count": null,
      "outputs": [
        {
          "output_type": "stream",
          "name": "stdout",
          "text": [
            " Dizenin boyutu : (3, 4) \n",
            " \t Dizenin uzunluğu : 12\n"
          ]
        }
      ]
    },
    {
      "cell_type": "code",
      "source": [
        "print(a < 6) # Bu şekilde kullandığımızda bize Doğru veya Yanlışı bir ifade dönecektir fakat biz değerleri görmek istiyorsak aşağıdaki şekilde kullanmalıyız"
      ],
      "metadata": {
        "id": "QDWDOCtxLPnt",
        "colab": {
          "base_uri": "https://localhost:8080/"
        },
        "outputId": "1dd83cf0-2f09-47fc-9e35-1ed7305974de"
      },
      "execution_count": null,
      "outputs": [
        {
          "output_type": "stream",
          "name": "stdout",
          "text": [
            "[[ True  True  True  True]\n",
            " [ True False False False]\n",
            " [False False False False]]\n"
          ]
        }
      ]
    },
    {
      "cell_type": "code",
      "source": [
        "print(a[a<6])"
      ],
      "metadata": {
        "id": "HvgFBnCHLPqm",
        "colab": {
          "base_uri": "https://localhost:8080/"
        },
        "outputId": "51f119b7-58bf-4e5b-a440-b962af1dcc12"
      },
      "execution_count": null,
      "outputs": [
        {
          "output_type": "stream",
          "name": "stdout",
          "text": [
            "[1 2 3 4 5]\n"
          ]
        }
      ]
    },
    {
      "cell_type": "code",
      "source": [
        "divisible_by_2 = a[a%2==0]\n",
        "print(divisible_by_2)\n"
      ],
      "metadata": {
        "id": "7MwnoYoLNH61",
        "colab": {
          "base_uri": "https://localhost:8080/"
        },
        "outputId": "b9ed705b-5db6-4a36-e8c0-559517168ca1"
      },
      "execution_count": null,
      "outputs": [
        {
          "output_type": "stream",
          "name": "stdout",
          "text": [
            "[ 2  4  6  8 10 12]\n"
          ]
        }
      ]
    },
    {
      "cell_type": "code",
      "source": [
        "c = a[(a > 2) & (a < 11)]\n",
        "print(c)"
      ],
      "metadata": {
        "id": "QoBnn5uHNOYI",
        "colab": {
          "base_uri": "https://localhost:8080/"
        },
        "outputId": "59d5a2b8-0958-448c-9866-2e700ddaed49"
      },
      "execution_count": null,
      "outputs": [
        {
          "output_type": "stream",
          "name": "stdout",
          "text": [
            "[ 3  4  5  6  7  8  9 10]\n"
          ]
        }
      ]
    },
    {
      "cell_type": "markdown",
      "source": [
        "Aşağıdaki örnekte iki farklı a dizisinde belirli bir sınamaya göre iki farklı dizi oluşturuyoruz. 1.Dizi sınamya göre doğru dönen değerlerin satır indexi 2. dizi ise sınamaya göre doğru dönen değerlerin sütun indexini vermektedir. Bunların satır ve sütun indexlerlini bir arada tutmak ve direkt değerlere erişmek istiyorsanız bu iki dizeyi sıkıştırıp bir kordinat elde edebilirsiniz."
      ],
      "metadata": {
        "id": "6-dhj8xZRcKB"
      }
    },
    {
      "cell_type": "code",
      "source": [
        "a = np.array([[1, 2, 3, 4], [5, 6, 7, 8], [9, 10, 11, 12]])"
      ],
      "metadata": {
        "id": "HxXgIHvyR7qa"
      },
      "execution_count": null,
      "outputs": []
    },
    {
      "cell_type": "code",
      "source": [
        "b = np.nonzero(a < 7)\n",
        "print(b)\n",
        "print(type(b))"
      ],
      "metadata": {
        "id": "RxXIZtrvLPtu",
        "colab": {
          "base_uri": "https://localhost:8080/"
        },
        "outputId": "5bb46c69-6703-42d7-b9ae-b1944f887a40"
      },
      "execution_count": null,
      "outputs": [
        {
          "output_type": "stream",
          "name": "stdout",
          "text": [
            "(array([0, 0, 0, 0, 1, 1]), array([0, 1, 2, 3, 0, 1]))\n",
            "<class 'tuple'>\n"
          ]
        }
      ]
    },
    {
      "cell_type": "code",
      "source": [
        "list_of_coordinates= list(zip(b[0], b[1]))\n",
        "for coord in list_of_coordinates:\n",
        "  print(coord)"
      ],
      "metadata": {
        "id": "SSA2iNPMQiUf",
        "colab": {
          "base_uri": "https://localhost:8080/"
        },
        "outputId": "a4d5e262-4fe8-4d0f-fe28-66dbe6ce7237"
      },
      "execution_count": null,
      "outputs": [
        {
          "output_type": "stream",
          "name": "stdout",
          "text": [
            "(0, 0)\n",
            "(0, 1)\n",
            "(0, 2)\n",
            "(0, 3)\n",
            "(1, 0)\n",
            "(1, 1)\n"
          ]
        }
      ]
    },
    {
      "cell_type": "code",
      "source": [
        "  for coord in list_of_coordinates:\n",
        "    print(a[coord])"
      ],
      "metadata": {
        "id": "AlBBCPE7Qigy",
        "colab": {
          "base_uri": "https://localhost:8080/"
        },
        "outputId": "0cffc433-f131-42ff-bbd4-31b5e1a80d78"
      },
      "execution_count": null,
      "outputs": [
        {
          "output_type": "stream",
          "name": "stdout",
          "text": [
            "1\n",
            "2\n",
            "3\n",
            "4\n",
            "5\n",
            "6\n"
          ]
        }
      ]
    },
    {
      "cell_type": "markdown",
      "source": [
        "# Mevcut Numpy Arraylerden Array Oluşturma"
      ],
      "metadata": {
        "id": "1d_Hma18U0dM"
      }
    },
    {
      "cell_type": "markdown",
      "source": [
        "np.vstack(), np.hstack(), np.hsplit(), .view(),\n",
        "copy()"
      ],
      "metadata": {
        "id": "bXr7c8gMVAE9"
      }
    },
    {
      "cell_type": "code",
      "source": [
        "#Tek boyutlu dizilerden yeni dizi oluşturma\n",
        "a = np.array([1,2,3,5,6,7,8,9,10])\n",
        "arr1 = a[3:6]\n",
        "arr1"
      ],
      "metadata": {
        "id": "Dg-2soo7U73o",
        "colab": {
          "base_uri": "https://localhost:8080/"
        },
        "outputId": "b786b641-551f-4518-c646-56380780a353"
      },
      "execution_count": null,
      "outputs": [
        {
          "output_type": "execute_result",
          "data": {
            "text/plain": [
              "array([5, 6, 7])"
            ]
          },
          "metadata": {},
          "execution_count": 23
        }
      ]
    },
    {
      "cell_type": "code",
      "source": [
        "arr2 = a[0:3]\n",
        "arr2"
      ],
      "metadata": {
        "id": "XoWkqGEDU76g",
        "colab": {
          "base_uri": "https://localhost:8080/"
        },
        "outputId": "d5c272e8-e0e0-4178-ab59-1ac5c5cb64d9"
      },
      "execution_count": null,
      "outputs": [
        {
          "output_type": "execute_result",
          "data": {
            "text/plain": [
              "array([1, 2, 3])"
            ]
          },
          "metadata": {},
          "execution_count": 24
        }
      ]
    },
    {
      "cell_type": "code",
      "source": [
        "arr1_arr2 = np.vstack((arr1,arr2))\n",
        "arr1_arr2"
      ],
      "metadata": {
        "id": "xlY9Ym3_U79A",
        "colab": {
          "base_uri": "https://localhost:8080/"
        },
        "outputId": "cc9848b1-7fa5-4bf8-fbb4-d302474732f8"
      },
      "execution_count": null,
      "outputs": [
        {
          "output_type": "execute_result",
          "data": {
            "text/plain": [
              "array([[5, 6, 7],\n",
              "       [1, 2, 3]])"
            ]
          },
          "metadata": {},
          "execution_count": 25
        }
      ]
    },
    {
      "cell_type": "code",
      "source": [
        "arr1_arr2 = np.hstack((arr1,arr2))\n",
        "arr1_arr2"
      ],
      "metadata": {
        "id": "EyzJjUrLV5XB",
        "colab": {
          "base_uri": "https://localhost:8080/"
        },
        "outputId": "f17b8a75-1cc3-4e96-ff49-a2be607278ca"
      },
      "execution_count": null,
      "outputs": [
        {
          "output_type": "execute_result",
          "data": {
            "text/plain": [
              "array([5, 6, 7, 1, 2, 3])"
            ]
          },
          "metadata": {},
          "execution_count": 26
        }
      ]
    },
    {
      "cell_type": "code",
      "source": [
        "x = np.arange(1,25).reshape(2,12)\n",
        "x"
      ],
      "metadata": {
        "id": "kmnG2xtQWPzA",
        "colab": {
          "base_uri": "https://localhost:8080/"
        },
        "outputId": "e5e898ee-487e-4f12-c999-c7043952c200"
      },
      "execution_count": null,
      "outputs": [
        {
          "output_type": "execute_result",
          "data": {
            "text/plain": [
              "array([[ 1,  2,  3,  4,  5,  6,  7,  8,  9, 10, 11, 12],\n",
              "       [13, 14, 15, 16, 17, 18, 19, 20, 21, 22, 23, 24]])"
            ]
          },
          "metadata": {},
          "execution_count": 27
        }
      ]
    },
    {
      "cell_type": "code",
      "source": [
        "y = np.hsplit(x, 3)\n",
        "y"
      ],
      "metadata": {
        "id": "-k6HrtOuW3u4",
        "colab": {
          "base_uri": "https://localhost:8080/"
        },
        "outputId": "32017dc1-8ad1-438f-f77e-73a63d3b46f0"
      },
      "execution_count": null,
      "outputs": [
        {
          "output_type": "execute_result",
          "data": {
            "text/plain": [
              "[array([[ 1,  2,  3,  4],\n",
              "        [13, 14, 15, 16]]),\n",
              " array([[ 5,  6,  7,  8],\n",
              "        [17, 18, 19, 20]]),\n",
              " array([[ 9, 10, 11, 12],\n",
              "        [21, 22, 23, 24]])]"
            ]
          },
          "metadata": {},
          "execution_count": 28
        }
      ]
    },
    {
      "cell_type": "markdown",
      "source": [
        "# Matrisler"
      ],
      "metadata": {
        "id": "lp1nMCLhYbnK"
      }
    },
    {
      "cell_type": "code",
      "source": [
        "data =np.arange(6).reshape(3,2)"
      ],
      "metadata": {
        "id": "uFcVvR2NYemi"
      },
      "execution_count": null,
      "outputs": []
    },
    {
      "cell_type": "code",
      "source": [
        "data"
      ],
      "metadata": {
        "id": "mMiy-AwRYevi",
        "colab": {
          "base_uri": "https://localhost:8080/"
        },
        "outputId": "7a72d471-1a5f-4966-ec1a-828d5f72f467"
      },
      "execution_count": null,
      "outputs": [
        {
          "output_type": "execute_result",
          "data": {
            "text/plain": [
              "array([[0, 1],\n",
              "       [2, 3],\n",
              "       [4, 5]])"
            ]
          },
          "metadata": {},
          "execution_count": 30
        }
      ]
    },
    {
      "cell_type": "code",
      "source": [
        "print(data[0,1])\n",
        "print(data[1:3])\n",
        "print(data[:2,0])"
      ],
      "metadata": {
        "id": "Nptbh6qBYeyc",
        "colab": {
          "base_uri": "https://localhost:8080/"
        },
        "outputId": "0f071ea0-cff4-4600-c8a6-2b4377f31ffc"
      },
      "execution_count": null,
      "outputs": [
        {
          "output_type": "stream",
          "name": "stdout",
          "text": [
            "1\n",
            "[[2 3]\n",
            " [4 5]]\n",
            "[0 2]\n"
          ]
        }
      ]
    },
    {
      "cell_type": "markdown",
      "source": [
        "![2023-05-09_11-17.png](data:image/png;base64,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)"
      ],
      "metadata": {
        "id": "IAkNAxjElV2j"
      }
    },
    {
      "cell_type": "code",
      "source": [
        "rng = np.random.default_rng() # Random sayı üretmek için kullandığımız bir fonksiyon ve 2,4 boyutunda 0'dan 5'e kadar sayıları kullanarak rastgele bir dizi oluşturuyoruz\n",
        "rng.integers(5, size=(2, 4))"
      ],
      "metadata": {
        "colab": {
          "base_uri": "https://localhost:8080/"
        },
        "id": "LH3qjmFnlf2l",
        "outputId": "754aa444-ad94-43ed-d288-3ce54f983db1"
      },
      "execution_count": null,
      "outputs": [
        {
          "output_type": "execute_result",
          "data": {
            "text/plain": [
              "array([[1, 4, 2, 1],\n",
              "       [4, 2, 2, 1]])"
            ]
          },
          "metadata": {},
          "execution_count": 32
        }
      ]
    },
    {
      "cell_type": "markdown",
      "source": [
        "# Tekrarlayan İfadeler ve Veri Sayısı"
      ],
      "metadata": {
        "id": "_6mQ5gvmbW-v"
      }
    },
    {
      "cell_type": "code",
      "source": [
        "a = np.array([11, 11, 12, 13, 14, 15, 16, 17, 12, 13, 11, 14, 18, 19, 20])"
      ],
      "metadata": {
        "id": "xr_TT2SBbfNY"
      },
      "execution_count": null,
      "outputs": []
    },
    {
      "cell_type": "code",
      "source": [
        "unique_values = np.unique(a)\n",
        "print(unique_values)"
      ],
      "metadata": {
        "colab": {
          "base_uri": "https://localhost:8080/"
        },
        "id": "vZq0EG7qboN6",
        "outputId": "f6b90d64-d7ab-4487-ad25-4855f0bc2c84"
      },
      "execution_count": null,
      "outputs": [
        {
          "output_type": "stream",
          "name": "stdout",
          "text": [
            "[11 12 13 14 15 16 17 18 19 20]\n"
          ]
        }
      ]
    },
    {
      "cell_type": "code",
      "source": [
        "unique_values , indices_list , occurunce_counts = np.unique(a, return_index = True , return_counts = True)\n",
        "print(f\"Tekrarsız liste : {unique_values} \\n İlk Değerlerin İndexleri : {indices_list} \\n Tekrar Sayısı : {occurunce_counts}\")"
      ],
      "metadata": {
        "colab": {
          "base_uri": "https://localhost:8080/"
        },
        "id": "EysHJOn_buLa",
        "outputId": "264d7167-fc04-4344-c17c-7567a7f5b367"
      },
      "execution_count": null,
      "outputs": [
        {
          "output_type": "stream",
          "name": "stdout",
          "text": [
            "Tekrarsız liste : [11 12 13 14 15 16 17 18 19 20] \n",
            " İlk Değerlerin İndexleri : [ 0  2  3  4  5  6  7 12 13 14] \n",
            " Tekrar Sayısı : [3 2 2 2 1 1 1 1 1 1]\n"
          ]
        }
      ]
    },
    {
      "cell_type": "code",
      "source": [
        "#2D dizilerde aynı gözlemleri bulma (Satır değerlerinde aynı değerleri bulma)\n",
        "a_2d = np.array([[1, 2, 3, 4], [5, 6, 7, 8], [9, 10, 11, 12], [1, 2, 3, 4]])\n",
        "a_2d"
      ],
      "metadata": {
        "colab": {
          "base_uri": "https://localhost:8080/"
        },
        "id": "7jj-b4tSdUwY",
        "outputId": "d6a3de48-7d09-46fc-a888-da7848fcf1d1"
      },
      "execution_count": null,
      "outputs": [
        {
          "output_type": "execute_result",
          "data": {
            "text/plain": [
              "array([[ 1,  2,  3,  4],\n",
              "       [ 5,  6,  7,  8],\n",
              "       [ 9, 10, 11, 12],\n",
              "       [ 1,  2,  3,  4]])"
            ]
          },
          "metadata": {},
          "execution_count": 36
        }
      ]
    },
    {
      "cell_type": "code",
      "source": [
        "unique_rows = np.unique(a_2d, axis = 0)\n",
        "unique_rows"
      ],
      "metadata": {
        "colab": {
          "base_uri": "https://localhost:8080/"
        },
        "id": "-5wxYUaQc60I",
        "outputId": "fb74cfc9-c660-498c-d6e6-141e87bf854c"
      },
      "execution_count": null,
      "outputs": [
        {
          "output_type": "execute_result",
          "data": {
            "text/plain": [
              "array([[ 1,  2,  3,  4],\n",
              "       [ 5,  6,  7,  8],\n",
              "       [ 9, 10, 11, 12]])"
            ]
          },
          "metadata": {},
          "execution_count": 37
        }
      ]
    },
    {
      "cell_type": "markdown",
      "source": [
        "# Diziyi Tersine Çevirme"
      ],
      "metadata": {
        "id": "HCmSpMAbhWRQ"
      }
    },
    {
      "cell_type": "code",
      "source": [
        "arr = np.array([1, 2, 3, 4, 5, 6, 7, 8])"
      ],
      "metadata": {
        "id": "YBHYxpxOhZYW"
      },
      "execution_count": null,
      "outputs": []
    },
    {
      "cell_type": "code",
      "source": [
        "reversed_arr = np.flip(arr)\n",
        "print(reversed_arr)"
      ],
      "metadata": {
        "colab": {
          "base_uri": "https://localhost:8080/"
        },
        "id": "Mbv-_ysrhbvI",
        "outputId": "5fd1cebc-48ab-4ab9-abf7-de3a204c48d9"
      },
      "execution_count": null,
      "outputs": [
        {
          "output_type": "stream",
          "name": "stdout",
          "text": [
            "[8 7 6 5 4 3 2 1]\n"
          ]
        }
      ]
    },
    {
      "cell_type": "code",
      "source": [
        "arr_2d = np.array([[1, 2, 3, 4], [5, 6, 7, 8], [9, 10, 11, 12]])"
      ],
      "metadata": {
        "id": "MogJDQamhkRJ"
      },
      "execution_count": null,
      "outputs": []
    },
    {
      "cell_type": "code",
      "source": [
        "reversed_arr = np.flip(arr_2d)\n",
        "print(reversed_arr)"
      ],
      "metadata": {
        "colab": {
          "base_uri": "https://localhost:8080/"
        },
        "id": "g6uz_qsvhpH3",
        "outputId": "5f3e8cf2-1062-452d-c265-19d1a9ae6a52"
      },
      "execution_count": null,
      "outputs": [
        {
          "output_type": "stream",
          "name": "stdout",
          "text": [
            "[[12 11 10  9]\n",
            " [ 8  7  6  5]\n",
            " [ 4  3  2  1]]\n"
          ]
        }
      ]
    },
    {
      "cell_type": "code",
      "source": [
        "reversed_arr_columns = np.flip(arr_2d, axis=1) #Sadece kolonları ters,ine çevirmek için axis = 1 etiketini kullanmamız yeterli olucaktır.\n",
        "print(reversed_arr_columns)"
      ],
      "metadata": {
        "colab": {
          "base_uri": "https://localhost:8080/"
        },
        "id": "sFUyKs-Thwr8",
        "outputId": "e781d9b4-81d9-45bc-93ae-627121418768"
      },
      "execution_count": null,
      "outputs": [
        {
          "output_type": "stream",
          "name": "stdout",
          "text": [
            "[[ 4  3  2  1]\n",
            " [ 8  7  6  5]\n",
            " [12 11 10  9]]\n"
          ]
        }
      ]
    },
    {
      "cell_type": "code",
      "source": [
        "arr_2d[1] = np.flip(arr_2d[1]) #Sadece 1.Satırı tersine çevirmek için [Çevirmek istediğimiz Satır Numarası]\n",
        "print(arr_2d)"
      ],
      "metadata": {
        "colab": {
          "base_uri": "https://localhost:8080/"
        },
        "id": "qxB5rRyRiXC7",
        "outputId": "d18fb315-18bf-4c1c-da89-2183e04d05e9"
      },
      "execution_count": null,
      "outputs": [
        {
          "output_type": "stream",
          "name": "stdout",
          "text": [
            "[[ 1  2  3  4]\n",
            " [ 8  7  6  5]\n",
            " [ 9 10 11 12]]\n"
          ]
        }
      ]
    },
    {
      "cell_type": "code",
      "source": [
        "arr_2d[:,1] = np.flip(arr_2d[:,1]) #Sadece bir kolonu tersine çevirmek istediğimizde [:,çevirmek istediğimiz kolon]\n",
        "print(arr_2d)"
      ],
      "metadata": {
        "colab": {
          "base_uri": "https://localhost:8080/"
        },
        "id": "3qu3DQsIiwbm",
        "outputId": "fefa94ed-6f69-4a70-ecc5-10b9f226ea16"
      },
      "execution_count": null,
      "outputs": [
        {
          "output_type": "stream",
          "name": "stdout",
          "text": [
            "[[ 1 10  3  4]\n",
            " [ 8  7  6  5]\n",
            " [ 9  2 11 12]]\n"
          ]
        }
      ]
    },
    {
      "cell_type": "code",
      "source": [
        "  "
      ],
      "metadata": {
        "id": "XLTd5aTljCku"
      },
      "execution_count": null,
      "outputs": []
    },
    {
      "cell_type": "markdown",
      "source": [
        "# Yeniden Şekillendirme Ve çok Boyutlu Dizeleri Tek Boyuta İndirgeme"
      ],
      "metadata": {
        "id": "dZSg03IpzJiS"
      }
    },
    {
      "cell_type": "code",
      "source": [
        "x = np.array([[1,2,3,4],[5,6,7,8],[9,10,11,12]])\n",
        "x_flatten = x.flatten()"
      ],
      "metadata": {
        "id": "qU5aBIxszkoU"
      },
      "execution_count": null,
      "outputs": []
    },
    {
      "cell_type": "code",
      "source": [
        "print(f\"Dizi şekli : {x.shape} /n Düzleştirilmiş Dizi Şekli : {x_flatten.shape}\")"
      ],
      "metadata": {
        "colab": {
          "base_uri": "https://localhost:8080/"
        },
        "id": "cICWJsoe4tec",
        "outputId": "d4d06520-8cc9-4774-9b25-ce3fd18d8f36"
      },
      "execution_count": null,
      "outputs": [
        {
          "output_type": "stream",
          "name": "stdout",
          "text": [
            "Dizi şekli : (3, 4) /n Düzleştirilmiş Dizi Şekli : (12,)\n"
          ]
        }
      ]
    },
    {
      "cell_type": "code",
      "source": [
        "print(x_flatten[0])\n",
        "x_flatten[0] = 123"
      ],
      "metadata": {
        "colab": {
          "base_uri": "https://localhost:8080/"
        },
        "id": "Y-hYMLpqGA8K",
        "outputId": "2be5070d-38b1-46c2-e7f2-418e7ffb78ab"
      },
      "execution_count": null,
      "outputs": [
        {
          "output_type": "stream",
          "name": "stdout",
          "text": [
            "1\n"
          ]
        }
      ]
    },
    {
      "cell_type": "code",
      "source": [
        "print(x_flatten[0])"
      ],
      "metadata": {
        "colab": {
          "base_uri": "https://localhost:8080/"
        },
        "id": "ZsTVtfTpGDPr",
        "outputId": "9c54d6fe-9551-4b8f-f1ca-daba42c33e1a"
      },
      "execution_count": null,
      "outputs": [
        {
          "output_type": "stream",
          "name": "stdout",
          "text": [
            "123\n"
          ]
        }
      ]
    },
    {
      "cell_type": "markdown",
      "source": [
        "# Matematiksel Formüller İle Çalışmak"
      ],
      "metadata": {
        "id": "hT-y38n-IkLb"
      }
    },
    {
      "cell_type": "markdown",
      "source": [
        "Örnek olarak hata karaler ortalamasını baz aldığımızı düşündüğümüz zaman\n",
        "1/n*(toplam(tahmin_değeri-gerçek_değer)^2 formülü ile formülize edilebilir. Peki bunu nasıl numpy kütüphanesindeki fonksiyonlar ile kullanabiliriz. "
      ],
      "metadata": {
        "id": "L6fRHcNGI4On"
      }
    },
    {
      "cell_type": "code",
      "source": [
        "#error = 1/n*np.sum(np.square(prediction_value-gercek_deger))"
      ],
      "metadata": {
        "id": "pFhsF8qmIp-s"
      },
      "execution_count": null,
      "outputs": []
    },
    {
      "cell_type": "code",
      "source": [
        "prediction = rng.integers(5, size = 3)\n",
        "labels = rng.integers(5, size = 3)"
      ],
      "metadata": {
        "id": "hj4WWWtUJ3kz"
      },
      "execution_count": null,
      "outputs": []
    },
    {
      "cell_type": "code",
      "source": [
        "print(prediction , labels)"
      ],
      "metadata": {
        "colab": {
          "base_uri": "https://localhost:8080/"
        },
        "id": "zGZgiIBvKOa-",
        "outputId": "4d9bcc8c-3ba5-423e-b6b2-a3daa9600fc6"
      },
      "execution_count": null,
      "outputs": [
        {
          "output_type": "stream",
          "name": "stdout",
          "text": [
            "[4 1 4] [3 3 4]\n"
          ]
        }
      ]
    },
    {
      "cell_type": "code",
      "source": [
        "error = 1/prediction.size*np.sum(np.square(prediction-labels))"
      ],
      "metadata": {
        "id": "rxFj1Nt5KSXP"
      },
      "execution_count": null,
      "outputs": []
    },
    {
      "cell_type": "code",
      "source": [
        "print(error)"
      ],
      "metadata": {
        "colab": {
          "base_uri": "https://localhost:8080/"
        },
        "id": "OGHAiitaKgu9",
        "outputId": "43981656-3930-4d9f-cc89-7d14e35ef85a"
      },
      "execution_count": null,
      "outputs": [
        {
          "output_type": "stream",
          "name": "stdout",
          "text": [
            "1.6666666666666665\n"
          ]
        }
      ]
    },
    {
      "cell_type": "markdown",
      "source": [
        "# Numpy Objelerini nasıl kaydedip kayıtlı .npy dosyalarını nasıl yükleyebiliriz"
      ],
      "metadata": {
        "id": "Inh8MySSKscU"
      }
    },
    {
      "cell_type": "code",
      "source": [
        "\"\"\"np.save(\"filename\",\"kaydedilmek istenen dizi\")\n",
        "b = np.load(\"filename.npy\")\"\"\""
      ],
      "metadata": {
        "id": "SJWi4zuVK0KT"
      },
      "execution_count": null,
      "outputs": []
    },
    {
      "cell_type": "code",
      "source": [
        "\"\"\"np.savetxt(\"filename.csv\", \"kaydedilmek istenen dizi\")\n",
        "b = np.loadtxt(\"filename.csv\")\"\"\""
      ],
      "metadata": {
        "id": "MwlY29dHKdgE"
      },
      "execution_count": null,
      "outputs": []
    },
    {
      "cell_type": "markdown",
      "source": [
        "# Matplotlib Kütüphanesi İle Dizileri Grafikte Gösterme"
      ],
      "metadata": {
        "id": "XxwEw2D0NHg7"
      }
    },
    {
      "cell_type": "code",
      "source": [
        "import matplotlib.pyplot as plt\n",
        "a = rng.integers(10 , size = 15)\n",
        "plt.plot(a, \"purple\") #line\n",
        "plt.plot(a,'o') #Dots\n",
        "plt.show()"
      ],
      "metadata": {
        "colab": {
          "base_uri": "https://localhost:8080/",
          "height": 430
        },
        "id": "E_PFB4OXNTkc",
        "outputId": "0647605d-90ce-4ebd-ab72-215554b242d1"
      },
      "execution_count": null,
      "outputs": [
        {
          "output_type": "display_data",
          "data": {
            "text/plain": [
              "<Figure size 640x480 with 1 Axes>"
            ],
            "image/png": "[encoded data removed]"
          },
          "metadata": {}
        }
      ]
    },
    {
      "cell_type": "code",
      "source": [
        "fig = plt.figure()\n",
        "ax = fig.add_subplot(projection = '3d')\n",
        "X = np.arange(-5 , 5, 0.15)\n",
        "Y = np.arange(-5 , 5, 0.15)\n",
        "X ,Y = np.meshgrid(X,Y)\n",
        "Z = np.sin(np.sqrt(X**2 + Y**2))\n",
        "ax.plot_surface(X , Y, Z, rstride = 1, cstride = 2, cmap = 'viridis')\n",
        "plt.show()"
      ],
      "metadata": {
        "colab": {
          "base_uri": "https://localhost:8080/",
          "height": 410
        },
        "id": "5EEn9SWcNlZi",
        "outputId": "88dfa7b7-745a-4834-f272-6a35fd616c36"
      },
      "execution_count": null,
      "outputs": [
        {
          "output_type": "display_data",
          "data": {
            "text/plain": [
              "<Figure size 640x480 with 1 Axes>"
            ],
            "image/png": "[encoded data removed]"
          },
          "metadata": {}
        }
      ]
    },
    {
      "cell_type": "code",
      "source": [],
      "metadata": {
        "id": "n9N6Cu8YP40W"
      },
      "execution_count": null,
      "outputs": []
    }
  ]
}